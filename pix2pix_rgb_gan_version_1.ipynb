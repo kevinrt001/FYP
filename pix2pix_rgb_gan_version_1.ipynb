{
  "nbformat": 4,
  "nbformat_minor": 0,
  "metadata": {
    "colab": {
      "provenance": [],
      "gpuType": "T4",
      "authorship_tag": "ABX9TyN/SvRsy3hd8pOttMxehH7Q",
      "include_colab_link": true
    },
    "kernelspec": {
      "name": "python3",
      "display_name": "Python 3"
    },
    "language_info": {
      "name": "python"
    },
    "accelerator": "GPU"
  },
  "cells": [
    {
      "cell_type": "markdown",
      "metadata": {
        "id": "view-in-github",
        "colab_type": "text"
      },
      "source": [
        "<a href=\"https://colab.research.google.com/github/kevinrt001/FYP/blob/main/pix2pix_rgb_gan_version_1.ipynb\" target=\"_parent\"><img src=\"https://colab.research.google.com/assets/colab-badge.svg\" alt=\"Open In Colab\"/></a>"
      ]
    },
    {
      "cell_type": "code",
      "source": [
        "import os\n",
        "os.environ['TF_CPP_MIN_LOG_LEVEL'] = '2'\n",
        "\n",
        "from shutil import copyfile\n",
        "import zipfile\n",
        "\n",
        "import tensorflow as tf\n",
        "from tensorflow import keras\n",
        "import numpy as np"
      ],
      "metadata": {
        "id": "P76qzuSfmEE1"
      },
      "execution_count": 1,
      "outputs": []
    },
    {
      "cell_type": "code",
      "execution_count": 2,
      "metadata": {
        "colab": {
          "base_uri": "https://localhost:8080/"
        },
        "id": "oeT4cDpsjeDV",
        "outputId": "4b5fcb6f-40bc-45d6-d02b-75ca780d53a6"
      },
      "outputs": [
        {
          "output_type": "stream",
          "name": "stdout",
          "text": [
            "Cloning into 'FYP'...\n",
            "remote: Enumerating objects: 219544, done.\u001b[K\n",
            "remote: Counting objects: 100% (17072/17072), done.\u001b[K\n",
            "remote: Compressing objects: 100% (17066/17066), done.\u001b[K\n",
            "remote: Total 219544 (delta 10), reused 17046 (delta 0), pack-reused 202472\u001b[K\n",
            "Receiving objects: 100% (219544/219544), 1.45 GiB | 25.42 MiB/s, done.\n",
            "Resolving deltas: 100% (11/11), done.\n",
            "Updating files: 100% (224152/224152), done.\n"
          ]
        }
      ],
      "source": [
        "!git clone https://github.com/kevinrt001/FYP.git"
      ]
    },
    {
      "cell_type": "code",
      "source": [
        "# Define paths\n",
        "# pix2pix_rgb_gan_model_version_1_dir = '/content/pix2pix_rgb_gan_model_version_1_dir/'\n",
        "pix2pix_rgb_gan_checkpoint_version_1_dir = '/content/pix2pix_rgb_gan_checkpoint_version_1_dir/'\n",
        "pix2pix_rgb_gan_tensorboard_version_1_log_dir = '/content/pix2pix_rgb_gan_tensorboard_version_1_log_dir/'\n",
        "\n",
        "os.makedirs(pix2pix_rgb_gan_checkpoint_version_1_dir, exist_ok=True)\n",
        "os.makedirs(pix2pix_rgb_gan_tensorboard_version_1_log_dir, exist_ok=True)"
      ],
      "metadata": {
        "id": "8QRfwcroj0ms"
      },
      "execution_count": 3,
      "outputs": []
    },
    {
      "cell_type": "code",
      "source": [
        "mnist = keras.datasets.mnist\n",
        "\n",
        "(x_train, y_train), (x_test, y_test) = mnist.load_data()"
      ],
      "metadata": {
        "colab": {
          "base_uri": "https://localhost:8080/"
        },
        "id": "afpv4kQzq2bb",
        "outputId": "58c11b36-3723-4d7e-86ed-adc25343fbad"
      },
      "execution_count": 7,
      "outputs": [
        {
          "output_type": "stream",
          "name": "stdout",
          "text": [
            "Downloading data from https://storage.googleapis.com/tensorflow/tf-keras-datasets/mnist.npz\n",
            "11490434/11490434 [==============================] - 1s 0us/step\n"
          ]
        }
      ]
    },
    {
      "cell_type": "code",
      "source": [
        "# normalize\n",
        "x_train, x_test = x_train / 255.0, x_test / 255.0"
      ],
      "metadata": {
        "id": "lvPkQZ0fuESb"
      },
      "execution_count": 8,
      "outputs": []
    },
    {
      "cell_type": "code",
      "source": [
        "# Feed forward neural network\n",
        "\n",
        "def my_model():\n",
        "\n",
        "  model = keras.models.Sequential([\n",
        "      keras.layers.Flatten(input_shape=(28,28)),\n",
        "      keras.layers.Dense(128, activation='relu'),\n",
        "      keras.layers.Dense(10),\n",
        "  ])\n",
        "\n",
        "  # config\n",
        "  loss = keras.losses.SparseCategoricalCrossentropy(from_logits=True)\n",
        "  optim = keras.optimizers.Adam(learning_rate=0.001) # \"adam\"\n",
        "  metrics = [keras.metrics.SparseCategoricalAccuracy()] # \"accuracy\"\n",
        "\n",
        "  # compile\n",
        "  model.compile(loss=loss, optimizer=optim, metrics=metrics)\n",
        "\n",
        "  return model"
      ],
      "metadata": {
        "id": "KvRGILg5uGfZ"
      },
      "execution_count": 9,
      "outputs": []
    },
    {
      "cell_type": "code",
      "source": [
        "model_1 = my_model()"
      ],
      "metadata": {
        "id": "GpHGKxq9uHXZ"
      },
      "execution_count": 10,
      "outputs": []
    },
    {
      "cell_type": "code",
      "source": [
        "STOP_EARLY = tf.keras.callbacks.EarlyStopping(monitor='loss', patience=5)\n",
        "EPOCHS = 50\n",
        "BATCH_SIZE = 64"
      ],
      "metadata": {
        "id": "N4Wpu3rPumzG"
      },
      "execution_count": 11,
      "outputs": []
    },
    {
      "cell_type": "code",
      "source": [
        "# Calculate the number of batches per epoch\n",
        "import math\n",
        "n_batches = len(x_train) / BATCH_SIZE\n",
        "n_batches = math.ceil(n_batches)    # round up the number of batches to the nearest whole integer\n",
        "print(n_batches)"
      ],
      "metadata": {
        "colab": {
          "base_uri": "https://localhost:8080/"
        },
        "id": "jBIAWyyJuTU8",
        "outputId": "cd5803d9-7736-42a1-d258-35564c4b11bc"
      },
      "execution_count": 12,
      "outputs": [
        {
          "output_type": "stream",
          "name": "stdout",
          "text": [
            "938\n"
          ]
        }
      ]
    },
    {
      "cell_type": "code",
      "source": [
        "file_path = os.path.join(checkpoint_dir, 'cp-{epoch:04d}.ckpt')"
      ],
      "metadata": {
        "id": "aQGpH_D4uO_X"
      },
      "execution_count": 13,
      "outputs": []
    },
    {
      "cell_type": "code",
      "source": [
        "# saves the model's weights every 10 epochs\n",
        "NUM_OF_EPOCH_TO_SAVE_WEIGHTS = 10\n",
        "SAVE_FREQ = n_batches * NUM_OF_EPOCH_TO_SAVE_WEIGHTS\n",
        "\n",
        "# Create a callback that saves the model's weights every 10 epochs\n",
        "CP_CALLBACK = tf.keras.callbacks.ModelCheckpoint(filepath=file_path,\n",
        "                                                 save_weights_only=True,\n",
        "                                                 save_freq=SAVE_FREQ,\n",
        "                                                 verbose=1)"
      ],
      "metadata": {
        "id": "VgZ4DJdauVrj"
      },
      "execution_count": 14,
      "outputs": []
    },
    {
      "cell_type": "code",
      "source": [
        "model_1.fit(x_train, y_train, batch_size=BATCH_SIZE, epochs=EPOCHS, shuffle=True, verbose=0, callbacks=[CP_CALLBACK])"
      ],
      "metadata": {
        "colab": {
          "base_uri": "https://localhost:8080/"
        },
        "id": "IUYUzgAVuTYD",
        "outputId": "0fb5c149-3c91-494a-fdb4-e6ce428cd264"
      },
      "execution_count": 15,
      "outputs": [
        {
          "output_type": "stream",
          "name": "stdout",
          "text": [
            "\n",
            "Epoch 10: saving model to /content/checkpoint_dir/cp-0010.ckpt\n",
            "\n",
            "Epoch 20: saving model to /content/checkpoint_dir/cp-0020.ckpt\n",
            "\n",
            "Epoch 30: saving model to /content/checkpoint_dir/cp-0030.ckpt\n",
            "\n",
            "Epoch 40: saving model to /content/checkpoint_dir/cp-0040.ckpt\n",
            "\n",
            "Epoch 50: saving model to /content/checkpoint_dir/cp-0050.ckpt\n"
          ]
        },
        {
          "output_type": "execute_result",
          "data": {
            "text/plain": [
              "<keras.src.callbacks.History at 0x7a1912744e20>"
            ]
          },
          "metadata": {},
          "execution_count": 15
        }
      ]
    },
    {
      "cell_type": "code",
      "source": [
        "%cd /content/"
      ],
      "metadata": {
        "colab": {
          "base_uri": "https://localhost:8080/"
        },
        "id": "V6X7GZLlw3qg",
        "outputId": "36281801-a311-4413-b3e9-1f9c3aa580fd"
      },
      "execution_count": 18,
      "outputs": [
        {
          "output_type": "stream",
          "name": "stdout",
          "text": [
            "/content\n"
          ]
        }
      ]
    },
    {
      "cell_type": "code",
      "source": [
        "model_1.save('model_1.keras')"
      ],
      "metadata": {
        "id": "nGiXkPe5udof"
      },
      "execution_count": 25,
      "outputs": []
    },
    {
      "cell_type": "code",
      "source": [
        "!cp model_1.keras {repo_dir}"
      ],
      "metadata": {
        "id": "C8JpTcfdudrC"
      },
      "execution_count": null,
      "outputs": []
    },
    {
      "cell_type": "code",
      "source": [],
      "metadata": {
        "id": "_-fAywIWudtu"
      },
      "execution_count": null,
      "outputs": []
    },
    {
      "cell_type": "code",
      "source": [],
      "metadata": {
        "id": "jc3FdBr_udwY"
      },
      "execution_count": null,
      "outputs": []
    },
    {
      "cell_type": "code",
      "source": [
        "# Add, commit, and push changes to GitHub\n",
        "!git add .\n",
        "!git commit -m \"Add code, models, checkpoints, and TensorBoard logs\"\n",
        "!git push origin main"
      ],
      "metadata": {
        "colab": {
          "base_uri": "https://localhost:8080/"
        },
        "id": "RDkmaS9Hj01P",
        "outputId": "b8475fe9-ce16-458f-f638-93bc1ff6b105"
      },
      "execution_count": 6,
      "outputs": [
        {
          "output_type": "stream",
          "name": "stdout",
          "text": [
            "fatal: not a git repository (or any of the parent directories): .git\n",
            "fatal: not a git repository (or any of the parent directories): .git\n",
            "fatal: not a git repository (or any of the parent directories): .git\n"
          ]
        }
      ]
    },
    {
      "cell_type": "code",
      "source": [],
      "metadata": {
        "id": "urUG3mvjj04n"
      },
      "execution_count": null,
      "outputs": []
    }
  ]
}