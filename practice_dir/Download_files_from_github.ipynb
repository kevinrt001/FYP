{
  "nbformat": 4,
  "nbformat_minor": 0,
  "metadata": {
    "colab": {
      "provenance": [],
      "gpuType": "T4",
      "authorship_tag": "ABX9TyN39IumufIdzQVEuPfZS8q8",
      "include_colab_link": true
    },
    "kernelspec": {
      "name": "python3",
      "display_name": "Python 3"
    },
    "language_info": {
      "name": "python"
    },
    "accelerator": "GPU"
  },
  "cells": [
    {
      "cell_type": "markdown",
      "metadata": {
        "id": "view-in-github",
        "colab_type": "text"
      },
      "source": [
        "<a href=\"https://colab.research.google.com/github/kevinrt001/FYP/blob/main/practice_dir/Download_files_from_github.ipynb\" target=\"_parent\"><img src=\"https://colab.research.google.com/assets/colab-badge.svg\" alt=\"Open In Colab\"/></a>"
      ]
    },
    {
      "cell_type": "code",
      "execution_count": 1,
      "metadata": {
        "colab": {
          "base_uri": "https://localhost:8080/"
        },
        "id": "JeaJstX8bZyw",
        "outputId": "49ec9ab9-c4fc-48ca-b804-e48bacd60350"
      },
      "outputs": [
        {
          "output_type": "stream",
          "name": "stdout",
          "text": [
            "Reading package lists... Done\n",
            "Building dependency tree... Done\n",
            "Reading state information... Done\n",
            "git is already the newest version (1:2.34.1-1ubuntu1.10).\n",
            "0 upgraded, 0 newly installed, 0 to remove and 38 not upgraded.\n"
          ]
        }
      ],
      "source": [
        "import os\n",
        "os.environ['TF_CPP_MIN_LOG_LEVEL'] = '2'\n",
        "\n",
        "os.environ['TOKEN'] = '*****'\n",
        "\n",
        "from shutil import copyfile\n",
        "import zipfile\n",
        "\n",
        "import tensorflow as tf\n",
        "from tensorflow import keras\n",
        "import numpy as np\n",
        "\n",
        "import datetime\n",
        "\n",
        "!apt-get install -y git"
      ]
    },
    {
      "cell_type": "code",
      "source": [
        "!git clone https://github.com/kevinrt001/FYP.git"
      ],
      "metadata": {
        "colab": {
          "base_uri": "https://localhost:8080/"
        },
        "id": "8lkGGqnzbdb3",
        "outputId": "589fa348-bec5-49a2-f22f-10be69c64196"
      },
      "execution_count": 2,
      "outputs": [
        {
          "output_type": "stream",
          "name": "stdout",
          "text": [
            "Cloning into 'FYP'...\n",
            "remote: Enumerating objects: 219672, done.\u001b[K\n",
            "remote: Counting objects: 100% (17200/17200), done.\u001b[K\n",
            "remote: Compressing objects: 100% (17135/17135), done.\u001b[K\n",
            "remote: Total 219672 (delta 64), reused 17151 (delta 44), pack-reused 202472\u001b[K\n",
            "Receiving objects: 100% (219672/219672), 1.47 GiB | 37.02 MiB/s, done.\n",
            "Resolving deltas: 100% (65/65), done.\n",
            "Updating files: 100% (224168/224168), done.\n"
          ]
        }
      ]
    },
    {
      "cell_type": "code",
      "source": [
        "# Define paths\n",
        "\n",
        "# pix2pix_rgb_gan_version_1_model.keras\n",
        "pix2pix_rgb_gan_version_1_checkpoint_dir = '/content/pix2pix_rgb_gan_version_1_checkpoint_dir/'\n",
        "pix2pix_rgb_gan_version_1_tensorboard_log_dir = '/content/pix2pix_rgb_gan_version_1_tensorboard_log_dir/'\n",
        "\n",
        "\n",
        "os.makedirs(pix2pix_rgb_gan_version_1_checkpoint_dir, exist_ok=True)\n",
        "os.makedirs(pix2pix_rgb_gan_version_1_tensorboard_log_dir, exist_ok=True)"
      ],
      "metadata": {
        "id": "oERR8ry8bdes"
      },
      "execution_count": null,
      "outputs": []
    },
    {
      "cell_type": "code",
      "source": [
        "mnist = keras.datasets.mnist\n",
        "\n",
        "(x_train, y_train), (x_test, y_test) = mnist.load_data()"
      ],
      "metadata": {
        "colab": {
          "base_uri": "https://localhost:8080/"
        },
        "id": "L7DOebC-bdhe",
        "outputId": "036069f7-7cad-4fb9-fed7-33e056a5afec"
      },
      "execution_count": 3,
      "outputs": [
        {
          "output_type": "stream",
          "name": "stdout",
          "text": [
            "Downloading data from https://storage.googleapis.com/tensorflow/tf-keras-datasets/mnist.npz\n",
            "11490434/11490434 [==============================] - 0s 0us/step\n"
          ]
        }
      ]
    },
    {
      "cell_type": "code",
      "source": [
        "# normalize\n",
        "x_train, x_test = x_train / 255.0, x_test / 255.0"
      ],
      "metadata": {
        "id": "Wd4c5F37bdlB"
      },
      "execution_count": 4,
      "outputs": []
    },
    {
      "cell_type": "code",
      "source": [
        "# Feed forward neural network\n",
        "\n",
        "def my_model():\n",
        "\n",
        "  model = keras.models.Sequential([\n",
        "      keras.layers.Flatten(input_shape=(28,28)),\n",
        "      keras.layers.Dense(128, activation='relu'),\n",
        "      keras.layers.Dense(10),\n",
        "  ])\n",
        "\n",
        "  # config\n",
        "  loss = keras.losses.SparseCategoricalCrossentropy(from_logits=True)\n",
        "  optim = keras.optimizers.Adam(learning_rate=0.001) # \"adam\"\n",
        "  metrics = [keras.metrics.SparseCategoricalAccuracy()] # \"accuracy\"\n",
        "\n",
        "  # compile\n",
        "  model.compile(loss=loss, optimizer=optim, metrics=metrics)\n",
        "\n",
        "  return model"
      ],
      "metadata": {
        "id": "Et8yOeBubrDw"
      },
      "execution_count": 5,
      "outputs": []
    },
    {
      "cell_type": "code",
      "source": [
        "test_model_1 = my_model()"
      ],
      "metadata": {
        "id": "9zrDGddgbrGp"
      },
      "execution_count": 18,
      "outputs": []
    },
    {
      "cell_type": "markdown",
      "source": [
        "# **Download Weights**"
      ],
      "metadata": {
        "id": "EJmPsFMOeCWV"
      }
    },
    {
      "cell_type": "code",
      "source": [
        "model_1_checkpoint_dir = '/content/FYP/models/pix2pix_gan_model/pix2pix_rgb_gan_version_1_checkpoint_dir'"
      ],
      "metadata": {
        "id": "0Z9awYR-dAct"
      },
      "execution_count": 8,
      "outputs": []
    },
    {
      "cell_type": "code",
      "source": [
        "checkpoint_files = os.listdir(model_1_checkpoint_dir)\n",
        "\n",
        "checkpoint_files.sort()\n",
        "\n",
        "# Print the files in ascending order along with their index\n",
        "for idx, file in enumerate(checkpoint_files, start=0):\n",
        "    print(f\"{idx}: {file}\")"
      ],
      "metadata": {
        "colab": {
          "base_uri": "https://localhost:8080/"
        },
        "id": "WRtQkjLXdYMn",
        "outputId": "9e621908-e47b-44ab-c103-bee1ef37f2c1"
      },
      "execution_count": 10,
      "outputs": [
        {
          "output_type": "stream",
          "name": "stdout",
          "text": [
            "0: checkpoint\n",
            "1: cp-0010.ckpt.data-00000-of-00001\n",
            "2: cp-0010.ckpt.index\n",
            "3: cp-0020.ckpt.data-00000-of-00001\n",
            "4: cp-0020.ckpt.index\n",
            "5: cp-0030.ckpt.data-00000-of-00001\n",
            "6: cp-0030.ckpt.index\n",
            "7: cp-0040.ckpt.data-00000-of-00001\n",
            "8: cp-0040.ckpt.index\n",
            "9: cp-0050.ckpt.data-00000-of-00001\n",
            "10: cp-0050.ckpt.index\n"
          ]
        }
      ]
    },
    {
      "cell_type": "code",
      "source": [
        "checkpoint_1 = os.path.join(model_1_checkpoint_dir, 'cp-0010.ckpt')"
      ],
      "metadata": {
        "id": "4z1RwkUFdAfX"
      },
      "execution_count": 11,
      "outputs": []
    },
    {
      "cell_type": "code",
      "source": [
        "test_model_1.load_weights(checkpoint_1)"
      ],
      "metadata": {
        "colab": {
          "base_uri": "https://localhost:8080/"
        },
        "id": "im65YzILclUK",
        "outputId": "0daadb7e-a08b-4255-a9ba-0607a9bef504"
      },
      "execution_count": 19,
      "outputs": [
        {
          "output_type": "execute_result",
          "data": {
            "text/plain": [
              "<tensorflow.python.checkpoint.checkpoint.CheckpointLoadStatus at 0x79d440167e20>"
            ]
          },
          "metadata": {},
          "execution_count": 19
        }
      ]
    },
    {
      "cell_type": "code",
      "source": [
        "test_model_1.evaluate(x_test, y_test)"
      ],
      "metadata": {
        "colab": {
          "base_uri": "https://localhost:8080/"
        },
        "id": "xU1hOL3EdAh2",
        "outputId": "b008ce50-2886-4a2f-e1a0-2eff11669b1b"
      },
      "execution_count": 20,
      "outputs": [
        {
          "output_type": "stream",
          "name": "stdout",
          "text": [
            "313/313 [==============================] - 1s 2ms/step - loss: 0.0721 - sparse_categorical_accuracy: 0.9780\n"
          ]
        },
        {
          "output_type": "execute_result",
          "data": {
            "text/plain": [
              "[0.07212528586387634, 0.9779999852180481]"
            ]
          },
          "metadata": {},
          "execution_count": 20
        }
      ]
    },
    {
      "cell_type": "markdown",
      "source": [
        "# **Downlaod Model**"
      ],
      "metadata": {
        "id": "pK-grcGAeGH-"
      }
    },
    {
      "cell_type": "code",
      "source": [
        "model = '/content/FYP/models/pix2pix_gan_model/pix2pix_rgb_gan_version_1_model.keras'"
      ],
      "metadata": {
        "id": "mgchaJ-YeNMt"
      },
      "execution_count": 24,
      "outputs": []
    },
    {
      "cell_type": "code",
      "source": [
        "test_model_2 = keras.models.load_model(model)"
      ],
      "metadata": {
        "id": "rPDhg3GcchuS"
      },
      "execution_count": 25,
      "outputs": []
    },
    {
      "cell_type": "code",
      "source": [
        "test_model_2.evaluate(x_test, y_test)"
      ],
      "metadata": {
        "colab": {
          "base_uri": "https://localhost:8080/"
        },
        "id": "k2ckAlYHeaac",
        "outputId": "6b0404f4-9de4-465d-c73b-addb14f7eb9c"
      },
      "execution_count": 26,
      "outputs": [
        {
          "output_type": "stream",
          "name": "stdout",
          "text": [
            "313/313 [==============================] - 1s 2ms/step - loss: 0.1345 - sparse_categorical_accuracy: 0.9786\n"
          ]
        },
        {
          "output_type": "execute_result",
          "data": {
            "text/plain": [
              "[0.1344686895608902, 0.978600025177002]"
            ]
          },
          "metadata": {},
          "execution_count": 26
        }
      ]
    },
    {
      "cell_type": "code",
      "source": [
        "checkpoint_5 = os.path.join(model_1_checkpoint_dir, 'cp-0050.ckpt')"
      ],
      "metadata": {
        "id": "mj9xGEzJevWE"
      },
      "execution_count": 27,
      "outputs": []
    },
    {
      "cell_type": "code",
      "source": [
        "test_model_1.load_weights(checkpoint_5)"
      ],
      "metadata": {
        "colab": {
          "base_uri": "https://localhost:8080/"
        },
        "id": "Usdj5oLxeiHX",
        "outputId": "c2c7333b-6790-4bf2-b7b2-f1ff525d53b9"
      },
      "execution_count": 28,
      "outputs": [
        {
          "output_type": "execute_result",
          "data": {
            "text/plain": [
              "<tensorflow.python.checkpoint.checkpoint.CheckpointLoadStatus at 0x79d4401cb460>"
            ]
          },
          "metadata": {},
          "execution_count": 28
        }
      ]
    },
    {
      "cell_type": "code",
      "source": [
        "test_model_1.evaluate(x_test, y_test)"
      ],
      "metadata": {
        "colab": {
          "base_uri": "https://localhost:8080/"
        },
        "id": "NRUYJpqpe6GR",
        "outputId": "ad872ce7-009e-46dc-df40-2ce3c046226d"
      },
      "execution_count": 29,
      "outputs": [
        {
          "output_type": "stream",
          "name": "stdout",
          "text": [
            "313/313 [==============================] - 1s 3ms/step - loss: 0.1345 - sparse_categorical_accuracy: 0.9786\n"
          ]
        },
        {
          "output_type": "execute_result",
          "data": {
            "text/plain": [
              "[0.1344686895608902, 0.978600025177002]"
            ]
          },
          "metadata": {},
          "execution_count": 29
        }
      ]
    },
    {
      "cell_type": "code",
      "source": [],
      "metadata": {
        "id": "J-9AQKbEe8Ng"
      },
      "execution_count": null,
      "outputs": []
    }
  ]
}